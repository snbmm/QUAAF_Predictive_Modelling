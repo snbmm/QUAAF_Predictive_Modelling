{
 "cells": [
  {
   "cell_type": "markdown",
   "metadata": {},
   "source": [
    "### Package Imports"
   ]
  },
  {
   "cell_type": "code",
   "execution_count": 1,
   "metadata": {},
   "outputs": [],
   "source": [
    "import pandas as pd\n",
    "import numpy as np\n",
    "from pandas.tseries.offsets import BDay\n",
    "import yfinance as yf\n",
    "import matplotlib.pyplot as plt\n",
    "import seaborn as sns"
   ]
  },
  {
   "cell_type": "markdown",
   "metadata": {},
   "source": [
    "### Pulling in Data"
   ]
  },
  {
   "cell_type": "code",
   "execution_count": 2,
   "metadata": {},
   "outputs": [
    {
     "data": {
      "text/html": [
       "<div>\n",
       "<style scoped>\n",
       "    .dataframe tbody tr th:only-of-type {\n",
       "        vertical-align: middle;\n",
       "    }\n",
       "\n",
       "    .dataframe tbody tr th {\n",
       "        vertical-align: top;\n",
       "    }\n",
       "\n",
       "    .dataframe thead th {\n",
       "        text-align: right;\n",
       "    }\n",
       "</style>\n",
       "<table border=\"1\" class=\"dataframe\">\n",
       "  <thead>\n",
       "    <tr style=\"text-align: right;\">\n",
       "      <th></th>\n",
       "      <th>CL=F</th>\n",
       "      <th>EWT</th>\n",
       "      <th>EXSA.MI</th>\n",
       "      <th>GC=F</th>\n",
       "      <th>HG=F</th>\n",
       "      <th>IYW</th>\n",
       "      <th>SI=F</th>\n",
       "      <th>TWDUSD=X</th>\n",
       "      <th>^GSPC</th>\n",
       "      <th>^N225</th>\n",
       "    </tr>\n",
       "    <tr>\n",
       "      <th>Date</th>\n",
       "      <th></th>\n",
       "      <th></th>\n",
       "      <th></th>\n",
       "      <th></th>\n",
       "      <th></th>\n",
       "      <th></th>\n",
       "      <th></th>\n",
       "      <th></th>\n",
       "      <th></th>\n",
       "      <th></th>\n",
       "    </tr>\n",
       "  </thead>\n",
       "  <tbody>\n",
       "    <tr>\n",
       "      <th>2009-01-05</th>\n",
       "      <td>48.810001</td>\n",
       "      <td>9.536023</td>\n",
       "      <td>21.010000</td>\n",
       "      <td>857.200012</td>\n",
       "      <td>1.4420</td>\n",
       "      <td>8.237680</td>\n",
       "      <td>11.245</td>\n",
       "      <td>0.030161</td>\n",
       "      <td>927.450012</td>\n",
       "      <td>9043.120117</td>\n",
       "    </tr>\n",
       "    <tr>\n",
       "      <th>2009-01-06</th>\n",
       "      <td>48.580002</td>\n",
       "      <td>9.634460</td>\n",
       "      <td>21.600000</td>\n",
       "      <td>865.400024</td>\n",
       "      <td>1.5660</td>\n",
       "      <td>8.462852</td>\n",
       "      <td>11.420</td>\n",
       "      <td>0.030262</td>\n",
       "      <td>934.700012</td>\n",
       "      <td>9080.839844</td>\n",
       "    </tr>\n",
       "    <tr>\n",
       "      <th>2009-01-07</th>\n",
       "      <td>42.630001</td>\n",
       "      <td>9.412978</td>\n",
       "      <td>21.600000</td>\n",
       "      <td>841.099976</td>\n",
       "      <td>1.4945</td>\n",
       "      <td>8.179716</td>\n",
       "      <td>11.080</td>\n",
       "      <td>0.030234</td>\n",
       "      <td>906.650024</td>\n",
       "      <td>9239.240234</td>\n",
       "    </tr>\n",
       "    <tr>\n",
       "      <th>2009-01-08</th>\n",
       "      <td>41.700001</td>\n",
       "      <td>9.154583</td>\n",
       "      <td>21.600000</td>\n",
       "      <td>853.900024</td>\n",
       "      <td>1.4630</td>\n",
       "      <td>8.230992</td>\n",
       "      <td>11.072</td>\n",
       "      <td>0.030184</td>\n",
       "      <td>909.729980</td>\n",
       "      <td>8876.419922</td>\n",
       "    </tr>\n",
       "    <tr>\n",
       "      <th>2009-01-09</th>\n",
       "      <td>40.830002</td>\n",
       "      <td>8.797751</td>\n",
       "      <td>21.129999</td>\n",
       "      <td>854.299988</td>\n",
       "      <td>1.5455</td>\n",
       "      <td>8.025886</td>\n",
       "      <td>11.295</td>\n",
       "      <td>0.030111</td>\n",
       "      <td>890.349976</td>\n",
       "      <td>8836.799805</td>\n",
       "    </tr>\n",
       "  </tbody>\n",
       "</table>\n",
       "</div>"
      ],
      "text/plain": [
       "                 CL=F       EWT    EXSA.MI        GC=F    HG=F       IYW  \\\n",
       "Date                                                                       \n",
       "2009-01-05  48.810001  9.536023  21.010000  857.200012  1.4420  8.237680   \n",
       "2009-01-06  48.580002  9.634460  21.600000  865.400024  1.5660  8.462852   \n",
       "2009-01-07  42.630001  9.412978  21.600000  841.099976  1.4945  8.179716   \n",
       "2009-01-08  41.700001  9.154583  21.600000  853.900024  1.4630  8.230992   \n",
       "2009-01-09  40.830002  8.797751  21.129999  854.299988  1.5455  8.025886   \n",
       "\n",
       "              SI=F  TWDUSD=X       ^GSPC        ^N225  \n",
       "Date                                                   \n",
       "2009-01-05  11.245  0.030161  927.450012  9043.120117  \n",
       "2009-01-06  11.420  0.030262  934.700012  9080.839844  \n",
       "2009-01-07  11.080  0.030234  906.650024  9239.240234  \n",
       "2009-01-08  11.072  0.030184  909.729980  8876.419922  \n",
       "2009-01-09  11.295  0.030111  890.349976  8836.799805  "
      ]
     },
     "execution_count": 2,
     "metadata": {},
     "output_type": "execute_result"
    }
   ],
   "source": [
    "# Pulling in the tickers and economic predicators we're interested in (Taiwan ETF, S&P 500, Gold, US Tech ETF, etc.)\n",
    "tickers = [\"EWT\",'^GSPC','^N225','IYW','EXSA.MI','TWDUSD=X','CL=F','GC=F','SI=F','HG=F']\n",
    "\n",
    "# Get the last business day to pull the most recent data\n",
    "today = pd.Timestamp.now().normalize() # get today's date\n",
    "last_business_day = today - BDay(1) # subtract one business day from today's date\n",
    "lastbd = last_business_day.strftime('%Y-%m-%d') # format the date as yyyy-mm-dd\n",
    "\n",
    "\n",
    "# get data for the variable tickers\n",
    "df = yf.download(tickers,\n",
    "                 start='2009-01-01',\n",
    "                 end=lastbd,\n",
    "                 progress=False)\n",
    "\n",
    "# Dropping missing vals\n",
    "df = df['Adj Close'].dropna()\n",
    "df.head(5)"
   ]
  },
  {
   "cell_type": "markdown",
   "metadata": {},
   "source": [
    "### Forecasting Predicator Variables Individually"
   ]
  },
  {
   "cell_type": "code",
   "execution_count": 3,
   "metadata": {},
   "outputs": [
    {
     "data": {
      "text/html": [
       "<div>\n",
       "<style scoped>\n",
       "    .dataframe tbody tr th:only-of-type {\n",
       "        vertical-align: middle;\n",
       "    }\n",
       "\n",
       "    .dataframe tbody tr th {\n",
       "        vertical-align: top;\n",
       "    }\n",
       "\n",
       "    .dataframe thead th {\n",
       "        text-align: right;\n",
       "    }\n",
       "</style>\n",
       "<table border=\"1\" class=\"dataframe\">\n",
       "  <thead>\n",
       "    <tr style=\"text-align: right;\">\n",
       "      <th></th>\n",
       "      <th>CL=F</th>\n",
       "      <th>EWT</th>\n",
       "      <th>EXSA.MI</th>\n",
       "      <th>GC=F</th>\n",
       "      <th>HG=F</th>\n",
       "      <th>IYW</th>\n",
       "      <th>SI=F</th>\n",
       "      <th>TWDUSD=X</th>\n",
       "      <th>^GSPC</th>\n",
       "      <th>^N225</th>\n",
       "    </tr>\n",
       "    <tr>\n",
       "      <th>Date</th>\n",
       "      <th></th>\n",
       "      <th></th>\n",
       "      <th></th>\n",
       "      <th></th>\n",
       "      <th></th>\n",
       "      <th></th>\n",
       "      <th></th>\n",
       "      <th></th>\n",
       "      <th></th>\n",
       "      <th></th>\n",
       "    </tr>\n",
       "  </thead>\n",
       "  <tbody>\n",
       "    <tr>\n",
       "      <th>2023-03-10</th>\n",
       "      <td>76.680000</td>\n",
       "      <td>43.490002</td>\n",
       "      <td>44.939999</td>\n",
       "      <td>1862.000000</td>\n",
       "      <td>4.0455</td>\n",
       "      <td>82.669998</td>\n",
       "      <td>20.375000</td>\n",
       "      <td>0.032453</td>\n",
       "      <td>3861.590088</td>\n",
       "      <td>28143.970703</td>\n",
       "    </tr>\n",
       "    <tr>\n",
       "      <th>2023-03-13</th>\n",
       "      <td>74.800003</td>\n",
       "      <td>43.849998</td>\n",
       "      <td>43.840000</td>\n",
       "      <td>1911.699951</td>\n",
       "      <td>4.0695</td>\n",
       "      <td>83.250000</td>\n",
       "      <td>21.792999</td>\n",
       "      <td>0.032437</td>\n",
       "      <td>3855.760010</td>\n",
       "      <td>27832.960938</td>\n",
       "    </tr>\n",
       "    <tr>\n",
       "      <th>2023-03-14</th>\n",
       "      <td>71.330002</td>\n",
       "      <td>43.939999</td>\n",
       "      <td>44.445000</td>\n",
       "      <td>1906.199951</td>\n",
       "      <td>4.0105</td>\n",
       "      <td>85.389999</td>\n",
       "      <td>21.929001</td>\n",
       "      <td>0.032835</td>\n",
       "      <td>3919.290039</td>\n",
       "      <td>27222.039062</td>\n",
       "    </tr>\n",
       "    <tr>\n",
       "      <th>2023-03-15</th>\n",
       "      <td>67.610001</td>\n",
       "      <td>43.029999</td>\n",
       "      <td>43.055000</td>\n",
       "      <td>1926.599976</td>\n",
       "      <td>3.8565</td>\n",
       "      <td>85.769997</td>\n",
       "      <td>21.774000</td>\n",
       "      <td>0.032917</td>\n",
       "      <td>3891.929932</td>\n",
       "      <td>27229.480469</td>\n",
       "    </tr>\n",
       "    <tr>\n",
       "      <th>2023-03-16</th>\n",
       "      <td>68.349998</td>\n",
       "      <td>43.759998</td>\n",
       "      <td>43.665001</td>\n",
       "      <td>1919.000000</td>\n",
       "      <td>3.8855</td>\n",
       "      <td>88.540001</td>\n",
       "      <td>21.587999</td>\n",
       "      <td>0.032765</td>\n",
       "      <td>3960.280029</td>\n",
       "      <td>27010.609375</td>\n",
       "    </tr>\n",
       "  </tbody>\n",
       "</table>\n",
       "</div>"
      ],
      "text/plain": [
       "                 CL=F        EWT    EXSA.MI         GC=F    HG=F        IYW  \\\n",
       "Date                                                                          \n",
       "2023-03-10  76.680000  43.490002  44.939999  1862.000000  4.0455  82.669998   \n",
       "2023-03-13  74.800003  43.849998  43.840000  1911.699951  4.0695  83.250000   \n",
       "2023-03-14  71.330002  43.939999  44.445000  1906.199951  4.0105  85.389999   \n",
       "2023-03-15  67.610001  43.029999  43.055000  1926.599976  3.8565  85.769997   \n",
       "2023-03-16  68.349998  43.759998  43.665001  1919.000000  3.8855  88.540001   \n",
       "\n",
       "                 SI=F  TWDUSD=X        ^GSPC         ^N225  \n",
       "Date                                                        \n",
       "2023-03-10  20.375000  0.032453  3861.590088  28143.970703  \n",
       "2023-03-13  21.792999  0.032437  3855.760010  27832.960938  \n",
       "2023-03-14  21.929001  0.032835  3919.290039  27222.039062  \n",
       "2023-03-15  21.774000  0.032917  3891.929932  27229.480469  \n",
       "2023-03-16  21.587999  0.032765  3960.280029  27010.609375  "
      ]
     },
     "execution_count": 3,
     "metadata": {},
     "output_type": "execute_result"
    }
   ],
   "source": [
    "df.tail()\n",
    "## Just as a heads up CL=F is Oil, EWT is iShares MSCI Taiwan ETF, EXSA.MI is iShares STOXX Europe 600 UCITS ETF, GC=F is Gold, HG=F is Copper\n",
    "## iShares U.S. Technology ETF (IYW), SI = F is Silver, USD/TWD (TWDUSD=X), S&P 500, Nikkei 225"
   ]
  },
  {
   "cell_type": "code",
   "execution_count": 4,
   "metadata": {},
   "outputs": [
    {
     "data": {
      "text/html": [
       "<div>\n",
       "<style scoped>\n",
       "    .dataframe tbody tr th:only-of-type {\n",
       "        vertical-align: middle;\n",
       "    }\n",
       "\n",
       "    .dataframe tbody tr th {\n",
       "        vertical-align: top;\n",
       "    }\n",
       "\n",
       "    .dataframe thead th {\n",
       "        text-align: right;\n",
       "    }\n",
       "</style>\n",
       "<table border=\"1\" class=\"dataframe\">\n",
       "  <thead>\n",
       "    <tr style=\"text-align: right;\">\n",
       "      <th></th>\n",
       "      <th>Oil</th>\n",
       "    </tr>\n",
       "    <tr>\n",
       "      <th>date</th>\n",
       "      <th></th>\n",
       "    </tr>\n",
       "  </thead>\n",
       "  <tbody>\n",
       "    <tr>\n",
       "      <th>2023-03-10</th>\n",
       "      <td>76.680000</td>\n",
       "    </tr>\n",
       "    <tr>\n",
       "      <th>2023-03-13</th>\n",
       "      <td>74.800003</td>\n",
       "    </tr>\n",
       "    <tr>\n",
       "      <th>2023-03-14</th>\n",
       "      <td>71.330002</td>\n",
       "    </tr>\n",
       "    <tr>\n",
       "      <th>2023-03-15</th>\n",
       "      <td>67.610001</td>\n",
       "    </tr>\n",
       "    <tr>\n",
       "      <th>2023-03-16</th>\n",
       "      <td>68.349998</td>\n",
       "    </tr>\n",
       "  </tbody>\n",
       "</table>\n",
       "</div>"
      ],
      "text/plain": [
       "                  Oil\n",
       "date                 \n",
       "2023-03-10  76.680000\n",
       "2023-03-13  74.800003\n",
       "2023-03-14  71.330002\n",
       "2023-03-15  67.610001\n",
       "2023-03-16  68.349998"
      ]
     },
     "execution_count": 4,
     "metadata": {},
     "output_type": "execute_result"
    }
   ],
   "source": [
    "# Creating a dataframe Oil\n",
    "Oil = pd.DataFrame()\n",
    "Oil['date'] = df.index\n",
    "Oil['CL=F'] = df['CL=F'].values\n",
    "Oil = Oil.rename(columns={\"CL=F\" :\"Oil\"}).set_index('date')\n",
    "Oil.tail()\n"
   ]
  },
  {
   "cell_type": "code",
   "execution_count": 5,
   "metadata": {},
   "outputs": [
    {
     "data": {
      "text/html": [
       "<div>\n",
       "<style scoped>\n",
       "    .dataframe tbody tr th:only-of-type {\n",
       "        vertical-align: middle;\n",
       "    }\n",
       "\n",
       "    .dataframe tbody tr th {\n",
       "        vertical-align: top;\n",
       "    }\n",
       "\n",
       "    .dataframe thead th {\n",
       "        text-align: right;\n",
       "    }\n",
       "</style>\n",
       "<table border=\"1\" class=\"dataframe\">\n",
       "  <thead>\n",
       "    <tr style=\"text-align: right;\">\n",
       "      <th></th>\n",
       "      <th>Gold</th>\n",
       "    </tr>\n",
       "    <tr>\n",
       "      <th>date</th>\n",
       "      <th></th>\n",
       "    </tr>\n",
       "  </thead>\n",
       "  <tbody>\n",
       "    <tr>\n",
       "      <th>2023-03-10</th>\n",
       "      <td>1862.000000</td>\n",
       "    </tr>\n",
       "    <tr>\n",
       "      <th>2023-03-13</th>\n",
       "      <td>1911.699951</td>\n",
       "    </tr>\n",
       "    <tr>\n",
       "      <th>2023-03-14</th>\n",
       "      <td>1906.199951</td>\n",
       "    </tr>\n",
       "    <tr>\n",
       "      <th>2023-03-15</th>\n",
       "      <td>1926.599976</td>\n",
       "    </tr>\n",
       "    <tr>\n",
       "      <th>2023-03-16</th>\n",
       "      <td>1919.000000</td>\n",
       "    </tr>\n",
       "  </tbody>\n",
       "</table>\n",
       "</div>"
      ],
      "text/plain": [
       "                   Gold\n",
       "date                   \n",
       "2023-03-10  1862.000000\n",
       "2023-03-13  1911.699951\n",
       "2023-03-14  1906.199951\n",
       "2023-03-15  1926.599976\n",
       "2023-03-16  1919.000000"
      ]
     },
     "execution_count": 5,
     "metadata": {},
     "output_type": "execute_result"
    }
   ],
   "source": [
    "# Creating a dataframe Gold\n",
    "Gold = pd.DataFrame()\n",
    "Gold['date'] = df.index\n",
    "Gold['GC=F'] = df['GC=F'].values\n",
    "Gold = Gold.rename(columns={\"GC=F\" :\"Gold\"}).set_index('date')\n",
    "Gold.tail()"
   ]
  },
  {
   "cell_type": "code",
   "execution_count": 6,
   "metadata": {},
   "outputs": [
    {
     "data": {
      "text/html": [
       "<div>\n",
       "<style scoped>\n",
       "    .dataframe tbody tr th:only-of-type {\n",
       "        vertical-align: middle;\n",
       "    }\n",
       "\n",
       "    .dataframe tbody tr th {\n",
       "        vertical-align: top;\n",
       "    }\n",
       "\n",
       "    .dataframe thead th {\n",
       "        text-align: right;\n",
       "    }\n",
       "</style>\n",
       "<table border=\"1\" class=\"dataframe\">\n",
       "  <thead>\n",
       "    <tr style=\"text-align: right;\">\n",
       "      <th></th>\n",
       "      <th>Copper</th>\n",
       "    </tr>\n",
       "    <tr>\n",
       "      <th>date</th>\n",
       "      <th></th>\n",
       "    </tr>\n",
       "  </thead>\n",
       "  <tbody>\n",
       "    <tr>\n",
       "      <th>2023-03-10</th>\n",
       "      <td>4.0455</td>\n",
       "    </tr>\n",
       "    <tr>\n",
       "      <th>2023-03-13</th>\n",
       "      <td>4.0695</td>\n",
       "    </tr>\n",
       "    <tr>\n",
       "      <th>2023-03-14</th>\n",
       "      <td>4.0105</td>\n",
       "    </tr>\n",
       "    <tr>\n",
       "      <th>2023-03-15</th>\n",
       "      <td>3.8565</td>\n",
       "    </tr>\n",
       "    <tr>\n",
       "      <th>2023-03-16</th>\n",
       "      <td>3.8855</td>\n",
       "    </tr>\n",
       "  </tbody>\n",
       "</table>\n",
       "</div>"
      ],
      "text/plain": [
       "            Copper\n",
       "date              \n",
       "2023-03-10  4.0455\n",
       "2023-03-13  4.0695\n",
       "2023-03-14  4.0105\n",
       "2023-03-15  3.8565\n",
       "2023-03-16  3.8855"
      ]
     },
     "execution_count": 6,
     "metadata": {},
     "output_type": "execute_result"
    }
   ],
   "source": [
    "# Creating a dataframe Copper\n",
    "Copper = pd.DataFrame()\n",
    "Copper['date'] = df.index\n",
    "Copper['HG=F'] = df['HG=F'].values\n",
    "Copper = Copper.rename(columns={\"HG=F\" :\"Copper\"}).set_index('date')\n",
    "Copper.tail()"
   ]
  },
  {
   "cell_type": "code",
   "execution_count": 7,
   "metadata": {},
   "outputs": [
    {
     "data": {
      "text/html": [
       "<div>\n",
       "<style scoped>\n",
       "    .dataframe tbody tr th:only-of-type {\n",
       "        vertical-align: middle;\n",
       "    }\n",
       "\n",
       "    .dataframe tbody tr th {\n",
       "        vertical-align: top;\n",
       "    }\n",
       "\n",
       "    .dataframe thead th {\n",
       "        text-align: right;\n",
       "    }\n",
       "</style>\n",
       "<table border=\"1\" class=\"dataframe\">\n",
       "  <thead>\n",
       "    <tr style=\"text-align: right;\">\n",
       "      <th></th>\n",
       "      <th>Silver</th>\n",
       "    </tr>\n",
       "    <tr>\n",
       "      <th>date</th>\n",
       "      <th></th>\n",
       "    </tr>\n",
       "  </thead>\n",
       "  <tbody>\n",
       "    <tr>\n",
       "      <th>2023-03-10</th>\n",
       "      <td>20.375000</td>\n",
       "    </tr>\n",
       "    <tr>\n",
       "      <th>2023-03-13</th>\n",
       "      <td>21.792999</td>\n",
       "    </tr>\n",
       "    <tr>\n",
       "      <th>2023-03-14</th>\n",
       "      <td>21.929001</td>\n",
       "    </tr>\n",
       "    <tr>\n",
       "      <th>2023-03-15</th>\n",
       "      <td>21.774000</td>\n",
       "    </tr>\n",
       "    <tr>\n",
       "      <th>2023-03-16</th>\n",
       "      <td>21.587999</td>\n",
       "    </tr>\n",
       "  </tbody>\n",
       "</table>\n",
       "</div>"
      ],
      "text/plain": [
       "               Silver\n",
       "date                 \n",
       "2023-03-10  20.375000\n",
       "2023-03-13  21.792999\n",
       "2023-03-14  21.929001\n",
       "2023-03-15  21.774000\n",
       "2023-03-16  21.587999"
      ]
     },
     "execution_count": 7,
     "metadata": {},
     "output_type": "execute_result"
    }
   ],
   "source": [
    "# Creating a dataframe Silver\n",
    "Silver = pd.DataFrame()\n",
    "Silver['date'] = df.index\n",
    "Silver['SI=F'] = df['SI=F'].values\n",
    "Silver = Silver.rename(columns={\"SI=F\" :\"Silver\"}).set_index('date')\n",
    "Silver.tail()"
   ]
  },
  {
   "cell_type": "code",
   "execution_count": 8,
   "metadata": {},
   "outputs": [
    {
     "data": {
      "text/plain": [
       "<Axes: xlabel='date'>"
      ]
     },
     "execution_count": 8,
     "metadata": {},
     "output_type": "execute_result"
    },
    {
     "data": {
      "image/png": "[encoded data removed]",
      "text/plain": [
       "<Figure size 640x480 with 1 Axes>"
      ]
     },
     "metadata": {},
     "output_type": "display_data"
    }
   ],
   "source": [
    "Gold.plot()"
   ]
  },
  {
   "cell_type": "code",
   "execution_count": 9,
   "metadata": {},
   "outputs": [
    {
     "data": {
      "text/html": [
       "<div>\n",
       "<style scoped>\n",
       "    .dataframe tbody tr th:only-of-type {\n",
       "        vertical-align: middle;\n",
       "    }\n",
       "\n",
       "    .dataframe tbody tr th {\n",
       "        vertical-align: top;\n",
       "    }\n",
       "\n",
       "    .dataframe thead th {\n",
       "        text-align: right;\n",
       "    }\n",
       "</style>\n",
       "<table border=\"1\" class=\"dataframe\">\n",
       "  <thead>\n",
       "    <tr style=\"text-align: right;\">\n",
       "      <th></th>\n",
       "      <th>Gold</th>\n",
       "    </tr>\n",
       "    <tr>\n",
       "      <th>date</th>\n",
       "      <th></th>\n",
       "    </tr>\n",
       "  </thead>\n",
       "  <tbody>\n",
       "    <tr>\n",
       "      <th>2009-01-05</th>\n",
       "      <td>857.200012</td>\n",
       "    </tr>\n",
       "    <tr>\n",
       "      <th>2009-01-06</th>\n",
       "      <td>865.400024</td>\n",
       "    </tr>\n",
       "    <tr>\n",
       "      <th>2009-01-07</th>\n",
       "      <td>841.099976</td>\n",
       "    </tr>\n",
       "    <tr>\n",
       "      <th>2009-01-08</th>\n",
       "      <td>853.900024</td>\n",
       "    </tr>\n",
       "    <tr>\n",
       "      <th>2009-01-09</th>\n",
       "      <td>854.299988</td>\n",
       "    </tr>\n",
       "  </tbody>\n",
       "</table>\n",
       "</div>"
      ],
      "text/plain": [
       "                  Gold\n",
       "date                  \n",
       "2009-01-05  857.200012\n",
       "2009-01-06  865.400024\n",
       "2009-01-07  841.099976\n",
       "2009-01-08  853.900024\n",
       "2009-01-09  854.299988"
      ]
     },
     "execution_count": 9,
     "metadata": {},
     "output_type": "execute_result"
    }
   ],
   "source": [
    "Gold.head(5)"
   ]
  },
  {
   "cell_type": "code",
   "execution_count": 10,
   "metadata": {},
   "outputs": [
    {
     "name": "stdout",
     "output_type": "stream",
     "text": [
      "Instances in train: 3015\n",
      "Instances in train: 281\n"
     ]
    }
   ],
   "source": [
    "## Split data to train and test\n",
    "train = Gold['2009-01-05':'2021-12-31'] #\n",
    "test = Gold['2022-01-01':]\n",
    "print(f'Instances in train: {train.shape[0]}')\n",
    "print(f'Instances in train: {test.shape[0]}')"
   ]
  },
  {
   "cell_type": "code",
   "execution_count": 11,
   "metadata": {},
   "outputs": [],
   "source": [
    "# Scaling data to put it in NN\n",
    "from sklearn.preprocessing import MinMaxScaler\n",
    "scaler = MinMaxScaler()\n",
    "\n",
    "# Scaling the train and tet data \n",
    "scaler.fit(train)  \n",
    "scaled_gtrain = scaler.transform(train)\n",
    "scaled_gtest = scaler.transform(test)"
   ]
  },
  {
   "cell_type": "code",
   "execution_count": 12,
   "metadata": {},
   "outputs": [],
   "source": [
    "# Create sequences and labels for Train \n",
    "seq_len = 60\n",
    "sequences_tr = []\n",
    "labels_tr = []\n",
    "for i in range(seq_len, len(scaled_gtrain)):\n",
    "    sequences_tr.append(scaled_gtrain[i-seq_len:i])\n",
    "    labels_tr.append(scaled_gtrain[i])"
   ]
  },
  {
   "cell_type": "code",
   "execution_count": 13,
   "metadata": {},
   "outputs": [],
   "source": [
    "# Create sequences and labels for Test\n",
    "seq_len = 60\n",
    "sequences_ts = []\n",
    "labels_ts = []\n",
    "for i in range(seq_len, len(scaled_gtest)):\n",
    "    sequences_ts.append(scaled_gtest[i-seq_len:i])\n",
    "    labels_ts.append(scaled_gtest[i])"
   ]
  },
  {
   "cell_type": "code",
   "execution_count": 14,
   "metadata": {},
   "outputs": [],
   "source": [
    "# Convert to numpy arrays train\n",
    "x_train = np.array(sequences_tr)\n",
    "y_train = np.array(labels_tr)"
   ]
  },
  {
   "cell_type": "code",
   "execution_count": 15,
   "metadata": {},
   "outputs": [],
   "source": [
    "# Convert to numpy arrays test\n",
    "x_test = np.array(sequences_ts)\n",
    "y_test = np.array(labels_ts)"
   ]
  },
  {
   "cell_type": "code",
   "execution_count": 16,
   "metadata": {},
   "outputs": [
    {
     "name": "stdout",
     "output_type": "stream",
     "text": [
      "Train - Seq_window: 2955\n",
      "The above is equal to 2955\n",
      "Test - Seq_window: 221\n",
      "The above is equal to 221\n"
     ]
    }
   ],
   "source": [
    "# training data based on the sequence window\n",
    "print(f'Train - Seq_window: {train.shape[0] - seq_len}')\n",
    "print(f'The above is equal to {x_train.shape[0]}')\n",
    "# testing data based on the sequence window\n",
    "print(f'Test - Seq_window: {test.shape[0] - seq_len}')\n",
    "print(f'The above is equal to {x_test.shape[0]}')"
   ]
  },
  {
   "cell_type": "code",
   "execution_count": 27,
   "metadata": {},
   "outputs": [],
   "source": [
    "# Set random seed for reproducibility\n",
    "import tensorflow as tf\n",
    "np.random.seed(8)\n",
    "tf.random.set_seed(8)"
   ]
  },
  {
   "cell_type": "code",
   "execution_count": 28,
   "metadata": {},
   "outputs": [],
   "source": [
    "# Just try with additonal layer\n",
    "from tensorflow.keras.models import Sequential\n",
    "from tensorflow.keras.layers import LSTM, Dense, Dropout\n",
    "\n",
    "model = Sequential([\n",
    "    LSTM(units=64, input_shape=(x_train.shape[1], x_train.shape[2]), activation='relu', return_sequences=True),\n",
    "    Dropout(0.2),\n",
    "    LSTM(units=32, activation='relu'),\n",
    "    Dropout(0.2),\n",
    "    Dense(units=1, activation='linear')\n",
    "])"
   ]
  },
  {
   "cell_type": "code",
   "execution_count": 29,
   "metadata": {},
   "outputs": [],
   "source": [
    "# Compile model\n",
    "model.compile(optimizer='adam', loss='mse')"
   ]
  },
  {
   "cell_type": "code",
   "execution_count": 30,
   "metadata": {},
   "outputs": [
    {
     "name": "stdout",
     "output_type": "stream",
     "text": [
      "Epoch 1/100\n",
      "93/93 [==============================] - 6s 37ms/step - loss: 0.0388\n",
      "Epoch 2/100\n",
      "93/93 [==============================] - 3s 35ms/step - loss: 0.0071\n",
      "Epoch 3/100\n",
      "93/93 [==============================] - 3s 34ms/step - loss: 0.0064\n",
      "Epoch 4/100\n",
      "93/93 [==============================] - 3s 34ms/step - loss: 0.0055\n",
      "Epoch 5/100\n",
      "93/93 [==============================] - 3s 34ms/step - loss: 0.0053\n",
      "Epoch 6/100\n",
      "93/93 [==============================] - 3s 34ms/step - loss: 0.0043\n",
      "Epoch 7/100\n",
      "93/93 [==============================] - 3s 34ms/step - loss: 0.0042\n",
      "Epoch 8/100\n",
      "93/93 [==============================] - 3s 34ms/step - loss: 0.0041\n",
      "Epoch 9/100\n",
      "93/93 [==============================] - 3s 34ms/step - loss: 0.0040\n",
      "Epoch 10/100\n",
      "93/93 [==============================] - 3s 34ms/step - loss: 0.0035\n",
      "Epoch 11/100\n",
      "93/93 [==============================] - 3s 34ms/step - loss: 0.0036\n",
      "Epoch 12/100\n",
      "93/93 [==============================] - 3s 34ms/step - loss: 0.0032\n",
      "Epoch 13/100\n",
      "93/93 [==============================] - 3s 33ms/step - loss: 0.0036\n",
      "Epoch 14/100\n",
      "93/93 [==============================] - 3s 33ms/step - loss: 0.0031\n",
      "Epoch 15/100\n",
      "93/93 [==============================] - 3s 32ms/step - loss: 0.0028\n",
      "Epoch 16/100\n",
      "93/93 [==============================] - 3s 32ms/step - loss: 0.0029\n",
      "Epoch 17/100\n",
      "93/93 [==============================] - 3s 32ms/step - loss: 0.0028\n",
      "Epoch 18/100\n",
      "93/93 [==============================] - 3s 32ms/step - loss: 0.0024\n",
      "Epoch 19/100\n",
      "93/93 [==============================] - 3s 32ms/step - loss: 0.0025\n",
      "Epoch 20/100\n",
      "93/93 [==============================] - 3s 32ms/step - loss: 0.0024\n",
      "Epoch 21/100\n",
      "93/93 [==============================] - 3s 32ms/step - loss: 0.0023\n",
      "Epoch 22/100\n",
      "93/93 [==============================] - 3s 32ms/step - loss: 0.0021\n",
      "Epoch 23/100\n",
      "93/93 [==============================] - 3s 32ms/step - loss: 0.0019\n",
      "Epoch 24/100\n",
      "93/93 [==============================] - 3s 32ms/step - loss: 0.0020\n",
      "Epoch 25/100\n",
      "93/93 [==============================] - 3s 32ms/step - loss: 0.0018\n",
      "Epoch 26/100\n",
      "93/93 [==============================] - 3s 32ms/step - loss: 0.0018\n",
      "Epoch 27/100\n",
      "93/93 [==============================] - 3s 32ms/step - loss: 0.0017\n",
      "Epoch 28/100\n",
      "93/93 [==============================] - 3s 32ms/step - loss: 0.0017\n",
      "Epoch 29/100\n",
      "93/93 [==============================] - 3s 32ms/step - loss: 0.0017\n",
      "Epoch 30/100\n",
      "93/93 [==============================] - 3s 32ms/step - loss: 0.0016\n",
      "Epoch 31/100\n",
      "93/93 [==============================] - 3s 32ms/step - loss: 0.0016\n",
      "Epoch 32/100\n",
      "93/93 [==============================] - 3s 32ms/step - loss: 0.0016\n",
      "Epoch 33/100\n",
      "93/93 [==============================] - 3s 32ms/step - loss: 0.0015\n",
      "Epoch 34/100\n",
      "93/93 [==============================] - 3s 32ms/step - loss: 0.0015\n",
      "Epoch 35/100\n",
      "93/93 [==============================] - 3s 32ms/step - loss: 0.0016\n",
      "Epoch 36/100\n",
      "93/93 [==============================] - 3s 32ms/step - loss: 0.0014\n",
      "Epoch 37/100\n",
      "93/93 [==============================] - 3s 32ms/step - loss: 0.0014\n",
      "Epoch 38/100\n",
      "93/93 [==============================] - 3s 32ms/step - loss: 0.0015\n",
      "Epoch 39/100\n",
      "93/93 [==============================] - 3s 33ms/step - loss: 0.0014\n",
      "Epoch 40/100\n",
      "93/93 [==============================] - 3s 33ms/step - loss: 0.0013\n",
      "Epoch 41/100\n",
      "93/93 [==============================] - 3s 32ms/step - loss: 0.0014\n",
      "Epoch 42/100\n",
      "93/93 [==============================] - 3s 32ms/step - loss: 0.0015\n",
      "Epoch 43/100\n",
      "93/93 [==============================] - 3s 32ms/step - loss: 0.0014\n",
      "Epoch 44/100\n",
      "93/93 [==============================] - 3s 32ms/step - loss: 0.0014\n",
      "Epoch 45/100\n",
      "93/93 [==============================] - 3s 32ms/step - loss: 0.0014\n",
      "Epoch 46/100\n",
      "93/93 [==============================] - 3s 32ms/step - loss: 0.0013\n",
      "Epoch 47/100\n",
      "93/93 [==============================] - 3s 32ms/step - loss: 0.0013\n",
      "Epoch 48/100\n",
      "93/93 [==============================] - 3s 32ms/step - loss: 0.0013\n",
      "Epoch 49/100\n",
      "93/93 [==============================] - 3s 32ms/step - loss: 0.0013\n",
      "Epoch 50/100\n",
      "93/93 [==============================] - 3s 32ms/step - loss: 0.0014\n",
      "Epoch 51/100\n",
      "93/93 [==============================] - 3s 32ms/step - loss: 0.0012\n",
      "Epoch 52/100\n",
      "93/93 [==============================] - 3s 32ms/step - loss: 0.0013\n",
      "Epoch 53/100\n",
      "93/93 [==============================] - 3s 32ms/step - loss: 0.0012\n",
      "Epoch 54/100\n",
      "93/93 [==============================] - 3s 32ms/step - loss: 0.0013\n",
      "Epoch 55/100\n",
      "93/93 [==============================] - 3s 32ms/step - loss: 0.0012\n",
      "Epoch 56/100\n",
      "93/93 [==============================] - 3s 32ms/step - loss: 0.0014\n",
      "Epoch 57/100\n",
      "93/93 [==============================] - 3s 32ms/step - loss: 0.0013\n",
      "Epoch 58/100\n",
      "93/93 [==============================] - 3s 32ms/step - loss: 0.0013\n",
      "Epoch 59/100\n",
      "93/93 [==============================] - 3s 32ms/step - loss: 0.0013\n",
      "Epoch 60/100\n",
      "93/93 [==============================] - 3s 32ms/step - loss: 0.0014\n",
      "Epoch 61/100\n",
      "93/93 [==============================] - 3s 32ms/step - loss: 0.0012\n",
      "Epoch 62/100\n",
      "93/93 [==============================] - 3s 31ms/step - loss: 0.0013\n",
      "Epoch 63/100\n",
      "93/93 [==============================] - 3s 32ms/step - loss: 0.0012\n",
      "Epoch 64/100\n",
      "93/93 [==============================] - 3s 32ms/step - loss: 0.0012\n",
      "Epoch 65/100\n",
      "93/93 [==============================] - 3s 32ms/step - loss: 0.0013\n",
      "Epoch 66/100\n",
      "93/93 [==============================] - 3s 32ms/step - loss: 0.0012\n",
      "Epoch 67/100\n",
      "93/93 [==============================] - 3s 32ms/step - loss: 0.0013\n",
      "Epoch 68/100\n",
      "93/93 [==============================] - 3s 32ms/step - loss: 0.0012\n",
      "Epoch 69/100\n",
      "93/93 [==============================] - 3s 32ms/step - loss: 0.0011\n",
      "Epoch 70/100\n",
      "93/93 [==============================] - 3s 32ms/step - loss: 0.0011\n",
      "Epoch 71/100\n",
      "93/93 [==============================] - 3s 33ms/step - loss: 0.0012\n",
      "Epoch 72/100\n",
      "93/93 [==============================] - 3s 32ms/step - loss: 0.0012\n",
      "Epoch 73/100\n",
      "93/93 [==============================] - 3s 32ms/step - loss: 0.0012\n",
      "Epoch 74/100\n",
      "93/93 [==============================] - 3s 32ms/step - loss: 0.0012\n",
      "Epoch 75/100\n",
      "93/93 [==============================] - 3s 32ms/step - loss: 0.0011\n",
      "Epoch 76/100\n",
      "93/93 [==============================] - 3s 32ms/step - loss: 0.0012\n",
      "Epoch 77/100\n",
      "93/93 [==============================] - 3s 33ms/step - loss: 0.0011\n",
      "Epoch 78/100\n",
      "93/93 [==============================] - 3s 32ms/step - loss: 0.0012\n",
      "Epoch 79/100\n",
      "93/93 [==============================] - 3s 32ms/step - loss: 0.0012\n",
      "Epoch 80/100\n",
      "93/93 [==============================] - 3s 33ms/step - loss: 0.0011\n",
      "Epoch 81/100\n",
      "93/93 [==============================] - 3s 33ms/step - loss: 0.0011\n",
      "Epoch 82/100\n",
      "93/93 [==============================] - 3s 35ms/step - loss: 0.0012\n",
      "Epoch 83/100\n",
      "93/93 [==============================] - 3s 33ms/step - loss: 0.0011\n",
      "Epoch 84/100\n",
      "93/93 [==============================] - 3s 32ms/step - loss: 0.0011\n",
      "Epoch 85/100\n",
      "93/93 [==============================] - 3s 33ms/step - loss: 0.0012\n",
      "Epoch 86/100\n",
      "93/93 [==============================] - 3s 32ms/step - loss: 0.0012\n",
      "Epoch 87/100\n",
      "93/93 [==============================] - 4s 39ms/step - loss: 0.0012\n",
      "Epoch 88/100\n",
      "93/93 [==============================] - 3s 36ms/step - loss: 0.0012\n",
      "Epoch 89/100\n",
      "93/93 [==============================] - 3s 37ms/step - loss: 0.0012\n",
      "Epoch 90/100\n",
      "93/93 [==============================] - 3s 37ms/step - loss: 0.0011\n",
      "Epoch 91/100\n",
      "93/93 [==============================] - 4s 38ms/step - loss: 0.0012\n",
      "Epoch 92/100\n",
      "93/93 [==============================] - 3s 38ms/step - loss: 0.0012\n",
      "Epoch 93/100\n",
      "93/93 [==============================] - 3s 37ms/step - loss: 0.0012\n",
      "Epoch 94/100\n",
      "93/93 [==============================] - 4s 38ms/step - loss: 0.0011\n",
      "Epoch 95/100\n",
      "93/93 [==============================] - 4s 38ms/step - loss: 0.0011\n",
      "Epoch 96/100\n",
      "93/93 [==============================] - 4s 38ms/step - loss: 0.0011\n",
      "Epoch 97/100\n",
      "93/93 [==============================] - 3s 37ms/step - loss: 0.0012\n",
      "Epoch 98/100\n",
      "93/93 [==============================] - 3s 37ms/step - loss: 0.0011\n",
      "Epoch 99/100\n",
      "93/93 [==============================] - 3s 37ms/step - loss: 0.0011\n",
      "Epoch 100/100\n",
      "93/93 [==============================] - 3s 37ms/step - loss: 0.0012\n"
     ]
    },
    {
     "data": {
      "text/plain": [
       "<keras.callbacks.History at 0x1b37e176d10>"
      ]
     },
     "execution_count": 30,
     "metadata": {},
     "output_type": "execute_result"
    }
   ],
   "source": [
    "# Train model\n",
    "model.fit(x_train, y_train, epochs=100, batch_size=32)"
   ]
  },
  {
   "cell_type": "code",
   "execution_count": 31,
   "metadata": {},
   "outputs": [
    {
     "name": "stdout",
     "output_type": "stream",
     "text": [
      "7/7 [==============================] - 0s 11ms/step\n"
     ]
    }
   ],
   "source": [
    "# Make predictions\n",
    "y_pred = model.predict(x_test)"
   ]
  },
  {
   "cell_type": "code",
   "execution_count": 32,
   "metadata": {},
   "outputs": [],
   "source": [
    "# Inverse scaling on predictions and actual values\n",
    "y_pred_inv = scaler.inverse_transform(y_pred)\n",
    "y_test_inv = scaler.inverse_transform(y_test)"
   ]
  },
  {
   "cell_type": "code",
   "execution_count": 33,
   "metadata": {},
   "outputs": [
    {
     "data": {
      "image/png": "[encoded data removed]",
      "text/plain": [
       "<Figure size 1200x600 with 1 Axes>"
      ]
     },
     "metadata": {},
     "output_type": "display_data"
    }
   ],
   "source": [
    "# Plot predictions\n",
    "import matplotlib.pyplot as plt\n",
    "\n",
    "plt.figure(figsize=(12,6))\n",
    "plt.plot(df.index[-len(y_test_inv):], y_test_inv, label='Actual')\n",
    "plt.plot(df.index[-len(y_pred_inv):], y_pred_inv, label='Predicted')\n",
    "plt.legend()\n",
    "plt.show()\n"
   ]
  },
  {
   "cell_type": "code",
   "execution_count": 34,
   "metadata": {},
   "outputs": [
    {
     "data": {
      "text/plain": [
       "DatetimeIndex(['2022-04-06', '2022-04-07', '2022-04-08', '2022-04-11',\n",
       "               '2022-04-12', '2022-04-13', '2022-04-14', '2022-04-19',\n",
       "               '2022-04-20', '2022-04-21',\n",
       "               ...\n",
       "               '2023-03-03', '2023-03-06', '2023-03-07', '2023-03-08',\n",
       "               '2023-03-09', '2023-03-10', '2023-03-13', '2023-03-14',\n",
       "               '2023-03-15', '2023-03-16'],\n",
       "              dtype='datetime64[ns]', name='Date', length=221, freq=None)"
      ]
     },
     "execution_count": 34,
     "metadata": {},
     "output_type": "execute_result"
    }
   ],
   "source": [
    "# Confirmation of start date \n",
    "df.index[-len(y_pred_inv):]\n",
    "df.index[-len(y_test_inv):]"
   ]
  },
  {
   "cell_type": "code",
   "execution_count": 35,
   "metadata": {},
   "outputs": [
    {
     "name": "stdout",
     "output_type": "stream",
     "text": [
      "1/1 [==============================] - 0s 31ms/step\n",
      "1/1 [==============================] - 0s 27ms/step\n",
      "1/1 [==============================] - 0s 28ms/step\n",
      "1/1 [==============================] - 0s 26ms/step\n",
      "1/1 [==============================] - 0s 26ms/step\n",
      "1/1 [==============================] - 0s 26ms/step\n",
      "1/1 [==============================] - 0s 24ms/step\n",
      "1/1 [==============================] - 0s 25ms/step\n",
      "1/1 [==============================] - 0s 25ms/step\n",
      "1/1 [==============================] - 0s 28ms/step\n",
      "1/1 [==============================] - 0s 24ms/step\n",
      "1/1 [==============================] - 0s 27ms/step\n",
      "1/1 [==============================] - 0s 29ms/step\n",
      "1/1 [==============================] - 0s 29ms/step\n",
      "1/1 [==============================] - 0s 28ms/step\n",
      "1/1 [==============================] - 0s 34ms/step\n",
      "1/1 [==============================] - 0s 28ms/step\n",
      "1/1 [==============================] - 0s 29ms/step\n",
      "1/1 [==============================] - 0s 29ms/step\n",
      "1/1 [==============================] - 0s 32ms/step\n",
      "1/1 [==============================] - 0s 32ms/step\n",
      "1/1 [==============================] - 0s 32ms/step\n",
      "1/1 [==============================] - 0s 25ms/step\n",
      "1/1 [==============================] - 0s 28ms/step\n",
      "1/1 [==============================] - 0s 27ms/step\n",
      "1/1 [==============================] - 0s 26ms/step\n",
      "1/1 [==============================] - 0s 27ms/step\n",
      "1/1 [==============================] - 0s 25ms/step\n",
      "1/1 [==============================] - 0s 28ms/step\n",
      "1/1 [==============================] - 0s 27ms/step\n",
      "1/1 [==============================] - 0s 25ms/step\n",
      "1/1 [==============================] - 0s 27ms/step\n",
      "1/1 [==============================] - 0s 25ms/step\n",
      "1/1 [==============================] - 0s 25ms/step\n",
      "1/1 [==============================] - 0s 26ms/step\n",
      "1/1 [==============================] - 0s 26ms/step\n",
      "1/1 [==============================] - 0s 31ms/step\n",
      "1/1 [==============================] - 0s 26ms/step\n",
      "1/1 [==============================] - 0s 28ms/step\n",
      "1/1 [==============================] - 0s 26ms/step\n",
      "1/1 [==============================] - 0s 27ms/step\n",
      "1/1 [==============================] - 0s 28ms/step\n",
      "1/1 [==============================] - 0s 26ms/step\n",
      "1/1 [==============================] - 0s 26ms/step\n",
      "1/1 [==============================] - 0s 26ms/step\n",
      "1/1 [==============================] - 0s 27ms/step\n",
      "1/1 [==============================] - 0s 28ms/step\n",
      "1/1 [==============================] - 0s 28ms/step\n",
      "1/1 [==============================] - 0s 28ms/step\n",
      "1/1 [==============================] - 0s 26ms/step\n"
     ]
    }
   ],
   "source": [
    "# Forecast 50 days into the future\n",
    "future_dates = pd.date_range(start='20230310', periods=50, freq='D')\n",
    "last_seq = x_test[-1].reshape(1, seq_len, 1)\n",
    "forecast = []\n",
    "for i in range(len(future_dates)):\n",
    "    next_pred = model.predict(last_seq)\n",
    "    forecast.append(next_pred[0][0])\n",
    "    last_seq = np.append(last_seq[:,1:,:], [[next_pred[0]]], axis=1)"
   ]
  },
  {
   "cell_type": "code",
   "execution_count": 36,
   "metadata": {},
   "outputs": [
    {
     "data": {
      "image/png": "[encoded data removed]",
      "text/plain": [
       "<Figure size 1200x600 with 1 Axes>"
      ]
     },
     "metadata": {},
     "output_type": "display_data"
    }
   ],
   "source": [
    "# Rand 1\n",
    "# Inverse scaling on forecast\n",
    "forecast_inv = scaler.inverse_transform(np.array(forecast).reshape(-1, 1))\n",
    "\n",
    "# Plot forecast\n",
    "plt.figure(figsize=(12,6))\n",
    "plt.plot(df.index[-len(y_test_inv):], y_test_inv, label='Actual')\n",
    "plt.plot(future_dates, forecast_inv, label='Forecast')\n",
    "plt.legend()\n",
    "plt.show()"
   ]
  },
  {
   "cell_type": "markdown",
   "metadata": {},
   "source": [
    "#### End"
   ]
  }
 ],
 "metadata": {
  "kernelspec": {
   "display_name": "Python 3",
   "language": "python",
   "name": "python3"
  },
  "language_info": {
   "codemirror_mode": {
    "name": "ipython",
    "version": 3
   },
   "file_extension": ".py",
   "mimetype": "text/x-python",
   "name": "python",
   "nbconvert_exporter": "python",
   "pygments_lexer": "ipython3",
   "version": "3.10.0"
  },
  "vscode": {
   "interpreter": {
    "hash": "feb8527ee40aeb3c742910ae0e6710e2b499eae9e95c2f0b7ad5926a9c6766bd"
   }
  }
 },
 "nbformat": 4,
 "nbformat_minor": 4
}
