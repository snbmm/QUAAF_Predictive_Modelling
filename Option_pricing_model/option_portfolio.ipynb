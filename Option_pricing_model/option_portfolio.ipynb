{
 "cells": [
  {
   "cell_type": "code",
   "execution_count": 16,
   "metadata": {},
   "outputs": [
    {
     "name": "stdout",
     "output_type": "stream",
     "text": [
      "[*********************100%***********************]  1 of 1 completed\n",
      "[*********************100%***********************]  1 of 1 completed\n",
      "1d Sharpe Ratio: 0.5180761328761193\n"
     ]
    }
   ],
   "source": [
    "import numpy as np\n",
    "import pandas as pd\n",
    "import yfinance as yf\n",
    "\n",
    "# Define the stock symbol and time period\n",
    "stock_symbol = \"MSFT\"\n",
    "start_date = \"2020-08-16\"  # 5 years ago from the current date\n",
    "end_date = \"2023-08-16\"\n",
    "\n",
    "# Download historical stock data using yfinance\n",
    "stock_data = yf.download(stock_symbol, start = start_date)\n",
    "\n",
    "# Calculate daily returns\n",
    "stock_data['Daily_Return'] = stock_data['Adj Close'].pct_change()\n",
    "\n",
    "# Calculate average daily return and standard deviation\n",
    "average_return = stock_data['Daily_Return'].mean()\n",
    "std_dev = stock_data['Daily_Return'].std()\n",
    "\n",
    "# Assuming a risk-free rate of 0% for simplicity\n",
    "risk_free_rate = yf.download(tickers = '^TNX')['Adj Close'][-1]/100\n",
    "\n",
    "# Calculate Sharpe Ratio for 5 years\n",
    "sharpe_ratio = (average_return - risk_free_rate/252) / std_dev * np.sqrt(252)  # 252 trading days in a year\n",
    "\n",
    "print(\"1d Sharpe Ratio:\", sharpe_ratio)\n",
    "print(\"1d average_return:\", average_return)\n",
    "print(\"1d std_dev:\", std_dev)"
   ]
  },
  {
   "cell_type": "code",
   "execution_count": 17,
   "metadata": {},
   "outputs": [
    {
     "name": "stdout",
     "output_type": "stream",
     "text": [
      "[*********************100%***********************]  1 of 1 completed\n",
      "7d Sharpe Ratio: 0.5343859393493112\n"
     ]
    }
   ],
   "source": [
    "stock_data['Daily_Return'] = stock_data['Adj Close'].pct_change(periods= 5)\n",
    "\n",
    "# Calculate average daily return and standard deviation\n",
    "average_return = stock_data['Daily_Return'].mean()\n",
    "std_dev = stock_data['Daily_Return'].std()\n",
    "\n",
    "# Assuming a risk-free rate of 0% for simplicity\n",
    "risk_free_rate = yf.download(tickers = '^TNX')['Adj Close'][-1]/100\n",
    "\n",
    "# Calculate Sharpe Ratio for 5 years\n",
    "sharpe_ratio = (average_return - risk_free_rate/(252/5)) / std_dev * np.sqrt(252/5)  # 252 trading days in a year\n",
    "\n",
    "print(\"7d Sharpe Ratio:\", sharpe_ratio)"
   ]
  }
 ],
 "metadata": {
  "kernelspec": {
   "display_name": "Python 3",
   "language": "python",
   "name": "python3"
  },
  "language_info": {
   "codemirror_mode": {
    "name": "ipython",
    "version": 3
   },
   "file_extension": ".py",
   "mimetype": "text/x-python",
   "name": "python",
   "nbconvert_exporter": "python",
   "pygments_lexer": "ipython3",
   "version": "3.9.5"
  },
  "orig_nbformat": 4
 },
 "nbformat": 4,
 "nbformat_minor": 2
}
